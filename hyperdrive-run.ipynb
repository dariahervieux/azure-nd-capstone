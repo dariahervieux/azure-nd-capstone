{
 "cells": [
  {
   "cell_type": "code",
   "execution_count": null,
   "metadata": {},
   "outputs": [],
   "source": [
    "import azureml.core\n",
    "from azureml.core.experiment import Experiment\n",
    "from azureml.core.workspace import Workspace\n",
    "from azureml.core.dataset import Dataset\n",
    "\n",
    "import logging\n",
    "\n",
    "ws = Workspace.from_config()\n",
    "print(ws.name, ws.resource_group, ws.location, ws.subscription_id, sep = '\\n')"
   ]
  },
  {
   "cell_type": "code",
   "execution_count": null,
   "metadata": {},
   "outputs": [],
   "source": [
    "experiment_name = 'azure-nd-project-capstone-hyperdrive'\n",
    "project_folder = './automl-run-capstone-project'\n",
    "\n",
    "experiment = Experiment(ws, experiment_name)"
   ]
  },
  {
   "cell_type": "code",
   "execution_count": null,
   "metadata": {},
   "outputs": [],
   "source": [
    "from azureml.core.compute import AmlCompute\n",
    "from azureml.core.compute import ComputeTarget\n",
    "from azureml.core.compute_target import ComputeTargetException\n",
    "\n",
    "cluster_name = \"cluster-nd-capstone\"\n",
    "\n",
    "# Verify that cluster does not exist already\n",
    "try:\n",
    "    compute_target = ComputeTarget(workspace=ws, name=cluster_name)\n",
    "    print('Found existing cluster, use it.')\n",
    "except ComputeTargetException:\n",
    "    compute_config = AmlCompute.provisioning_configuration(vm_size='STANDARD_DS12_V2',\n",
    "                                                           #vm_priority = 'lowpriority', # optional\n",
    "                                                           max_nodes=4, min_nodes=1)\n",
    "    compute_target = ComputeTarget.create(ws, cluster_name, compute_config)\n",
    "\n",
    "compute_target.wait_for_completion(show_output=True, min_node_count= None, timeout_in_minutes = 10)\n",
    "# For a more detailed view of current AmlCompute status, use get_status()."
   ]
  },
  {
   "cell_type": "code",
   "execution_count": null,
   "metadata": {},
   "outputs": [],
   "source": [
    "from scripts.cleansing import clean_data\n",
    "import pandas as pd\n",
    "\n",
    "def get_cleaned_dataset():\n",
    "    found = False\n",
    "    ds_key = \"openfoodfacts\"\n",
    "    description_text = \"Data extracted from OpenFoodFacts open source database.\"\n",
    "\n",
    "    if ds_key in ws.datasets.keys(): \n",
    "        found = True\n",
    "        ds_cleaned = ws.datasets[ds_key] \n",
    "\n",
    "    # Otherwise, create it from the file\n",
    "    if not found:\n",
    "        #Reading a json lines file into a DataFrame\n",
    "        data = pd.read_json('./eda/foods-features-v3.json', lines=True)\n",
    "        # DataFrame with cleaned data\n",
    "        data_cleaned = clean_data(data)\n",
    "        exported_df = 'cleaned-openfoodfacts.parquet'\n",
    "        cleaned_data.to_parquet(exported_df);\n",
    "        # Register Dataset in Workspace using experimental funcionality to upload and register pandas dataframe at once\n",
    "        ds_cleaned = TabularDatasetFactory.register_pandas_dataframe(dataframe=cleaned_data,\n",
    "                                                                     target=(ws.get_default_datastore(), exported_df),\n",
    "                                                                     name=ds_key, description=description_text,\n",
    "                                                                     show_progress=True)\n",
    "    return ds_cleaned"
   ]
  },
  {
   "cell_type": "code",
   "execution_count": null,
   "metadata": {},
   "outputs": [],
   "source": [
    "\n",
    "ds_cleaned = get_cleaned_dataset()\n"
   ]
  },
  {
   "cell_type": "markdown",
   "metadata": {},
   "source": [
    "## Hyperdrive run for regression"
   ]
  },
  {
   "cell_type": "code",
   "execution_count": null,
   "metadata": {},
   "outputs": [],
   "source": [
    "from azureml.train.sklearn import SKLearn\n",
    "from azureml.train.hyperdrive.run import PrimaryMetricGoal\n",
    "from azureml.train.hyperdrive.policy import NoTerminationPolicy\n",
    "from azureml.train.hyperdrive.sampling import RandomParameterSampling\n",
    "from azureml.train.hyperdrive.runconfig import HyperDriveConfig\n",
    "from azureml.train.hyperdrive.parameter_expressions import loguniform # supported by RandomParameterSampling\n",
    "from azureml.train.hyperdrive.parameter_expressions import choice # supported by RandomParameterSampling\n",
    "import os\n",
    "import shutil\n",
    "\n",
    "# Parameter sampler for the HyperDrive\n",
    "ps = RandomParameterSampling(\n",
    "    {\n",
    "        '--learning_rate': uniform(0.01, 0.3),# Contribution of each tree: uniform discribution \n",
    "        '--n_estimators': choice(100, 150, 200, 250, 300, 350), # Maximum number of iterations to converge\n",
    "    }\n",
    ")\n",
    "\n",
    "# ? No termination policy, since the job is not iterative (mertic is calculated only once)\n",
    "# This policy compares the value (Y + Y * 0.2) to \"best current score\", and if smaller, cancels the run.\n",
    "policy = BanditPolicy(slack_factor=0.01)\n",
    "\n",
    "script_folder = './scripts'\n",
    "\n",
    "# Create data consumption config for the Run, Dataset is consumed in 'direct' mode, \n",
    "dataset_consumption_cfg = ds_cleaned.as_named_input('dataset') \n",
    "\n",
    "# Create a SKLearn estimator for use with train.py\n",
    "est = SKLearn(source_directory=script_folder,\n",
    "              entry_script='hyperdrive-train.py',\n",
    "              inputs = [dataset_consumption_cfg],\n",
    "              compute_target=compute_target)\n",
    "\n",
    "# Create a HyperDriveConfig using the estimator, hyperparameter sampler, and policy.\n",
    "hyperdrive_config = HyperDriveConfig(hyperparameter_sampling=ps,\n",
    "                                     policy=policy,\n",
    "                                     estimator=est,\n",
    "                                      #The name of the primary metric reported by the experiment runs.\n",
    "                                     primary_metric_name='Accuracy',\n",
    "                                     primary_metric_goal=PrimaryMetricGoal.MAXIMIZE,\n",
    "                                     max_total_runs = 20,\n",
    "                                     max_duration_minutes=30,\n",
    "                                     max_concurrent_runs=4) # 4 nodes\n"
   ]
  }
 ],
 "metadata": {
  "language_info": {
   "codemirror_mode": {
    "name": "ipython",
    "version": 3
   },
   "file_extension": ".py",
   "mimetype": "text/x-python",
   "name": "python",
   "nbconvert_exporter": "python",
   "pygments_lexer": "ipython3",
   "version": 3
  },
  "orig_nbformat": 2
 },
 "nbformat": 4,
 "nbformat_minor": 2
}